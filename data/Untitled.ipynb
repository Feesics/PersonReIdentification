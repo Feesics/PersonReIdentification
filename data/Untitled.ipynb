{
 "cells": [
  {
   "cell_type": "code",
   "execution_count": null,
   "metadata": {},
   "outputs": [],
   "source": [
    "from data.common import list_pictures\n",
    "\n",
    "from torch.utils.data import dataset\n",
    "from torchvision.datasets.folder import default_loader\n",
    "\n",
    "class Duke(dataset.Dataset):\n",
    "    def __init__(self, args, transform, dtype):\n",
    "\n",
    "        self.transform = transform\n",
    "        self.loader = default_loader\n",
    "\n",
    "        data_path = args.datadir\n",
    "        if dtype == 'train':\n",
    "            data_path += '/bounding_box_train'\n",
    "        elif dtype == 'test':\n",
    "            data_path += '/bounding_box_test'\n",
    "        else:\n",
    "            data_path += '/query'\n"
   ]
  }
 ],
 "metadata": {
  "kernelspec": {
   "display_name": "Python 3",
   "language": "python",
   "name": "python3"
  },
  "language_info": {
   "codemirror_mode": {
    "name": "ipython",
    "version": 3
   },
   "file_extension": ".py",
   "mimetype": "text/x-python",
   "name": "python",
   "nbconvert_exporter": "python",
   "pygments_lexer": "ipython3",
   "version": "3.6.6"
  }
 },
 "nbformat": 4,
 "nbformat_minor": 2
}
